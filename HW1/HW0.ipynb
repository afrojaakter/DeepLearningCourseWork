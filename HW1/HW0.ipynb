{
 "cells": [
  {
   "cell_type": "markdown",
   "metadata": {},
   "source": [
    "#  Task 2:"
   ]
  },
  {
   "cell_type": "code",
   "execution_count": 1,
   "metadata": {},
   "outputs": [],
   "source": [
    "import numpy as np\n",
    "import scipy.linalg\n",
    "\n",
    "import sys\n",
    "\n",
    "if not sys.warnoptions:\n",
    "    import warnings\n",
    "    warnings.simplefilter(\"ignore\")"
   ]
  },
  {
   "cell_type": "code",
   "execution_count": 2,
   "metadata": {},
   "outputs": [
    {
     "data": {
      "text/plain": [
       "array([[  1,   2,   3,   0,   4],\n",
       "       [  3,   4,   5,   5,   2],\n",
       "       [  4,   3,   5,   6,   4],\n",
       "       [  1,  34,   5,   5,   6],\n",
       "       [  1,   3, 423,   4,   4]])"
      ]
     },
     "execution_count": 2,
     "metadata": {},
     "output_type": "execute_result"
    }
   ],
   "source": [
    "a = np.array(((1,2,3,0,4),(3,4,5,5,2),(4,3,5,6,4), (1,34,5,5,6), (1,3,423,4,4)))\n",
    "a"
   ]
  },
  {
   "cell_type": "code",
   "execution_count": 3,
   "metadata": {},
   "outputs": [
    {
     "data": {
      "text/plain": [
       "2"
      ]
     },
     "execution_count": 3,
     "metadata": {},
     "output_type": "execute_result"
    }
   ],
   "source": [
    "a.ndim #number of dimensions of an array"
   ]
  },
  {
   "cell_type": "code",
   "execution_count": 4,
   "metadata": {},
   "outputs": [
    {
     "data": {
      "text/plain": [
       "25"
      ]
     },
     "execution_count": 4,
     "metadata": {},
     "output_type": "execute_result"
    }
   ],
   "source": [
    "a.size #number of elements of an array"
   ]
  },
  {
   "cell_type": "code",
   "execution_count": 5,
   "metadata": {},
   "outputs": [
    {
     "data": {
      "text/plain": [
       "(5, 5)"
      ]
     },
     "execution_count": 5,
     "metadata": {},
     "output_type": "execute_result"
    }
   ],
   "source": [
    "a.shape #“size” of the matrix"
   ]
  },
  {
   "cell_type": "code",
   "execution_count": 6,
   "metadata": {},
   "outputs": [
    {
     "data": {
      "text/plain": [
       "5"
      ]
     },
     "execution_count": 6,
     "metadata": {},
     "output_type": "execute_result"
    }
   ],
   "source": [
    "n = a.ndim\n",
    "a.shape[n-1]"
   ]
  },
  {
   "cell_type": "code",
   "execution_count": 7,
   "metadata": {},
   "outputs": [
    {
     "data": {
      "text/plain": [
       "array([[1., 2., 3.],\n",
       "       [4., 5., 6.]])"
      ]
     },
     "execution_count": 7,
     "metadata": {},
     "output_type": "execute_result"
    }
   ],
   "source": [
    "b = np.array([[1.,2.,3.], [4.,5.,6.]])\n",
    "b"
   ]
  },
  {
   "cell_type": "code",
   "execution_count": 8,
   "metadata": {},
   "outputs": [
    {
     "data": {
      "text/plain": [
       "array([[1, 3],\n",
       "       [4, 5]])"
      ]
     },
     "execution_count": 8,
     "metadata": {},
     "output_type": "execute_result"
    }
   ],
   "source": [
    "C = np.block([[1,3],[4,5]])\n",
    "C"
   ]
  },
  {
   "cell_type": "code",
   "execution_count": 9,
   "metadata": {},
   "outputs": [
    {
     "data": {
      "text/plain": [
       "array([  1,   3, 423,   4,   4])"
      ]
     },
     "execution_count": 9,
     "metadata": {},
     "output_type": "execute_result"
    }
   ],
   "source": [
    "d = a[-1] #Last row of the matrix a\n",
    "d"
   ]
  },
  {
   "cell_type": "code",
   "execution_count": 10,
   "metadata": {},
   "outputs": [
    {
     "data": {
      "text/plain": [
       "4"
      ]
     },
     "execution_count": 10,
     "metadata": {},
     "output_type": "execute_result"
    }
   ],
   "source": [
    "d[-1] # access last element in the 1x4 matrix or a row vector"
   ]
  },
  {
   "cell_type": "code",
   "execution_count": 11,
   "metadata": {},
   "outputs": [
    {
     "data": {
      "text/plain": [
       "5"
      ]
     },
     "execution_count": 11,
     "metadata": {},
     "output_type": "execute_result"
    }
   ],
   "source": [
    "a[1,2] #access element in second row, third column"
   ]
  },
  {
   "cell_type": "code",
   "execution_count": 12,
   "metadata": {},
   "outputs": [
    {
     "data": {
      "text/plain": [
       "array([[2, 3],\n",
       "       [4, 5]])"
      ]
     },
     "execution_count": 12,
     "metadata": {},
     "output_type": "execute_result"
    }
   ],
   "source": [
    "a[0:2][:,1:3] #rows one to two and columns two to four of a. "
   ]
  },
  {
   "cell_type": "code",
   "execution_count": 13,
   "metadata": {},
   "outputs": [
    {
     "data": {
      "text/plain": [
       "array([[  3,   5],\n",
       "       [  1,   5],\n",
       "       [  1, 423]])"
      ]
     },
     "execution_count": 13,
     "metadata": {},
     "output_type": "execute_result"
    }
   ],
   "source": [
    "#rows 2,4 and 5 and columns 1 and 3. This allows the matrix to \n",
    "#be modified, and doesn’t require a regular slice.\n",
    "a[np.ix_([1,3,4],[0,2])] "
   ]
  },
  {
   "cell_type": "code",
   "execution_count": 14,
   "metadata": {},
   "outputs": [
    {
     "data": {
      "text/plain": [
       "array([[4, 3, 5, 6, 4]])"
      ]
     },
     "execution_count": 14,
     "metadata": {},
     "output_type": "execute_result"
    }
   ],
   "source": [
    "a[ 2:4:2,:] #every other row of a, starting with the third and going to the twenty-first"
   ]
  },
  {
   "cell_type": "code",
   "execution_count": 15,
   "metadata": {},
   "outputs": [
    {
     "data": {
      "text/plain": [
       "array([[  1,   2,   3,   0,   4],\n",
       "       [  4,   3,   5,   6,   4],\n",
       "       [  1,   3, 423,   4,   4]])"
      ]
     },
     "execution_count": 15,
     "metadata": {},
     "output_type": "execute_result"
    }
   ],
   "source": [
    "a[ ::2, :] #every other row of a, starting with the first"
   ]
  },
  {
   "cell_type": "code",
   "execution_count": 16,
   "metadata": {},
   "outputs": [
    {
     "data": {
      "text/plain": [
       "array([[  1,   3, 423,   4,   4],\n",
       "       [  1,  34,   5,   5,   6],\n",
       "       [  4,   3,   5,   6,   4],\n",
       "       [  3,   4,   5,   5,   2],\n",
       "       [  1,   2,   3,   0,   4]])"
      ]
     },
     "execution_count": 16,
     "metadata": {},
     "output_type": "execute_result"
    }
   ],
   "source": [
    "a[ ::-1,:] #a with rows in reverse order"
   ]
  },
  {
   "cell_type": "code",
   "execution_count": 17,
   "metadata": {},
   "outputs": [
    {
     "data": {
      "text/plain": [
       "array([[  1,   2,   3,   0,   4],\n",
       "       [  3,   4,   5,   5,   2],\n",
       "       [  4,   3,   5,   6,   4],\n",
       "       [  1,  34,   5,   5,   6],\n",
       "       [  1,   3, 423,   4,   4],\n",
       "       [  1,   2,   3,   0,   4]])"
      ]
     },
     "execution_count": 17,
     "metadata": {},
     "output_type": "execute_result"
    }
   ],
   "source": [
    "a[np.r_[:len(a),0]]  #a with copy of the first row appended to the end"
   ]
  },
  {
   "cell_type": "code",
   "execution_count": 18,
   "metadata": {},
   "outputs": [
    {
     "data": {
      "text/plain": [
       "array([[  1,   3,   4,   1,   1],\n",
       "       [  2,   4,   3,  34,   3],\n",
       "       [  3,   5,   5,   5, 423],\n",
       "       [  0,   5,   6,   5,   4],\n",
       "       [  4,   2,   4,   6,   4]])"
      ]
     },
     "execution_count": 18,
     "metadata": {},
     "output_type": "execute_result"
    }
   ],
   "source": [
    "a.transpose()"
   ]
  },
  {
   "cell_type": "code",
   "execution_count": 19,
   "metadata": {},
   "outputs": [
    {
     "data": {
      "text/plain": [
       "array([[  1,   3,   4,   1,   1],\n",
       "       [  2,   4,   3,  34,   3],\n",
       "       [  3,   5,   5,   5, 423],\n",
       "       [  0,   5,   6,   5,   4],\n",
       "       [  4,   2,   4,   6,   4]])"
      ]
     },
     "execution_count": 19,
     "metadata": {},
     "output_type": "execute_result"
    }
   ],
   "source": [
    "a.conj().transpose() "
   ]
  },
  {
   "cell_type": "code",
   "execution_count": 20,
   "metadata": {},
   "outputs": [
    {
     "data": {
      "text/plain": [
       "array([[6, 1, 9, 3, 4],\n",
       "       [3, 8, 2, 8, 8],\n",
       "       [7, 7, 1, 3, 6],\n",
       "       [8, 4, 6, 5, 5],\n",
       "       [4, 1, 2, 8, 1]])"
      ]
     },
     "execution_count": 20,
     "metadata": {},
     "output_type": "execute_result"
    }
   ],
   "source": [
    "b = np.random.randint(1,10,size=(5,5))\n",
    "b"
   ]
  },
  {
   "cell_type": "code",
   "execution_count": 21,
   "metadata": {},
   "outputs": [
    {
     "data": {
      "text/plain": [
       "array([[  49,   42,   24,   60,   42],\n",
       "       [ 113,   92,   74,   97,  101],\n",
       "       [ 132,   91,   91,  113,  104],\n",
       "       [ 207,  334,  124,  363,  337],\n",
       "       [3024, 3006,  470, 1348, 2590]])"
      ]
     },
     "execution_count": 21,
     "metadata": {},
     "output_type": "execute_result"
    }
   ],
   "source": [
    "a@b #matrix product"
   ]
  },
  {
   "cell_type": "code",
   "execution_count": 22,
   "metadata": {},
   "outputs": [
    {
     "data": {
      "text/plain": [
       "array([[  6,   2,  27,   0,  16],\n",
       "       [  9,  32,  10,  40,  16],\n",
       "       [ 28,  21,   5,  18,  24],\n",
       "       [  8, 136,  30,  25,  30],\n",
       "       [  4,   3, 846,  32,   4]])"
      ]
     },
     "execution_count": 22,
     "metadata": {},
     "output_type": "execute_result"
    }
   ],
   "source": [
    "a*b #element-wise multiplication"
   ]
  },
  {
   "cell_type": "code",
   "execution_count": 23,
   "metadata": {},
   "outputs": [
    {
     "data": {
      "text/plain": [
       "array([[1.66666667e-01, 2.00000000e+00, 3.33333333e-01, 0.00000000e+00,\n",
       "        1.00000000e+00],\n",
       "       [1.00000000e+00, 5.00000000e-01, 2.50000000e+00, 6.25000000e-01,\n",
       "        2.50000000e-01],\n",
       "       [5.71428571e-01, 4.28571429e-01, 5.00000000e+00, 2.00000000e+00,\n",
       "        6.66666667e-01],\n",
       "       [1.25000000e-01, 8.50000000e+00, 8.33333333e-01, 1.00000000e+00,\n",
       "        1.20000000e+00],\n",
       "       [2.50000000e-01, 3.00000000e+00, 2.11500000e+02, 5.00000000e-01,\n",
       "        4.00000000e+00]])"
      ]
     },
     "execution_count": 23,
     "metadata": {},
     "output_type": "execute_result"
    }
   ],
   "source": [
    "a/b #element-wise divide"
   ]
  },
  {
   "cell_type": "code",
   "execution_count": 24,
   "metadata": {},
   "outputs": [
    {
     "data": {
      "text/plain": [
       "array([[       1,        8,       27,        0,       64],\n",
       "       [      27,       64,      125,      125,        8],\n",
       "       [      64,       27,      125,      216,       64],\n",
       "       [       1,    39304,      125,      125,      216],\n",
       "       [       1,       27, 75686967,       64,       64]], dtype=int32)"
      ]
     },
     "execution_count": 24,
     "metadata": {},
     "output_type": "execute_result"
    }
   ],
   "source": [
    "a**3 #elementwise exponentiation"
   ]
  },
  {
   "cell_type": "code",
   "execution_count": 25,
   "metadata": {},
   "outputs": [
    {
     "data": {
      "text/plain": [
       "array([[ True,  True,  True, False,  True],\n",
       "       [ True,  True,  True,  True,  True],\n",
       "       [ True,  True,  True,  True,  True],\n",
       "       [ True,  True,  True,  True,  True],\n",
       "       [ True,  True,  True,  True,  True]])"
      ]
     },
     "execution_count": 25,
     "metadata": {},
     "output_type": "execute_result"
    }
   ],
   "source": [
    "#matrix whose i,jth element is (a_ij > 0.5).\n",
    "#The NumPy result is an array of the boolean values False and True.\n",
    "a>0.5 "
   ]
  },
  {
   "cell_type": "code",
   "execution_count": 26,
   "metadata": {},
   "outputs": [
    {
     "data": {
      "text/plain": [
       "(array([0, 0, 0, 0, 1, 1, 1, 1, 1, 2, 2, 2, 2, 2, 3, 3, 3, 3, 3, 4, 4, 4,\n",
       "        4, 4], dtype=int64),\n",
       " array([0, 1, 2, 4, 0, 1, 2, 3, 4, 0, 1, 2, 3, 4, 0, 1, 2, 3, 4, 0, 1, 2,\n",
       "        3, 4], dtype=int64))"
      ]
     },
     "execution_count": 26,
     "metadata": {},
     "output_type": "execute_result"
    }
   ],
   "source": [
    "np.nonzero(a>0.5) #find the indices where (a > 0.5)"
   ]
  },
  {
   "cell_type": "code",
   "execution_count": 27,
   "metadata": {},
   "outputs": [
    {
     "name": "stdout",
     "output_type": "stream",
     "text": [
      "[[  3]\n",
      " [  5]\n",
      " [  5]\n",
      " [  5]\n",
      " [423]]\n",
      "[[ 2  0]\n",
      " [ 4  5]\n",
      " [ 3  6]\n",
      " [34  5]\n",
      " [ 3  4]]\n",
      "[[  2   3   0   4]\n",
      " [  4   5   5   2]\n",
      " [  3   5   6   4]\n",
      " [ 34   5   5   6]\n",
      " [  3 423   4   4]]\n",
      "[[  2   3   0   4]\n",
      " [  4   5   5   2]\n",
      " [  3   5   6   4]\n",
      " [ 34   5   5   6]\n",
      " [  3 423   4   4]]\n",
      "[[  1   3   0   4]\n",
      " [  3   5   5   2]\n",
      " [  4   5   6   4]\n",
      " [  1   5   5   6]\n",
      " [  1 423   4   4]]\n"
     ]
    }
   ],
   "source": [
    "#extract the columms of a where vector v > 3\n",
    "for i in range(len(a)):\n",
    "    v = a[:,i]\n",
    "    print(a[:,np.nonzero(v>3)[0]])"
   ]
  },
  {
   "cell_type": "code",
   "execution_count": 28,
   "metadata": {},
   "outputs": [
    {
     "data": {
      "text/plain": [
       "array([[  1,   3,   0,   4],\n",
       "       [  3,   5,   5,   2],\n",
       "       [  4,   5,   6,   4],\n",
       "       [  1,   5,   5,   6],\n",
       "       [  1, 423,   4,   4]])"
      ]
     },
     "execution_count": 28,
     "metadata": {},
     "output_type": "execute_result"
    }
   ],
   "source": [
    "a[:,v.T>3] #extract the columms of a where column vector v > 3"
   ]
  },
  {
   "cell_type": "code",
   "execution_count": 29,
   "metadata": {},
   "outputs": [
    {
     "data": {
      "text/plain": [
       "array([[  1,   2,   3,   0,   4],\n",
       "       [  3,   4,   5,   5,   2],\n",
       "       [  4,   3,   5,   6,   4],\n",
       "       [  1,  34,   5,   5,   6],\n",
       "       [  1,   3, 423,   4,   4]])"
      ]
     },
     "execution_count": 29,
     "metadata": {},
     "output_type": "execute_result"
    }
   ],
   "source": [
    "a[a<0.5]=0 #a with elements less than 0.5 zeroed out\n",
    "a"
   ]
  },
  {
   "cell_type": "code",
   "execution_count": 30,
   "metadata": {},
   "outputs": [
    {
     "data": {
      "text/plain": [
       "array([[  1,   2,   3,   0,   4],\n",
       "       [  3,   4,   5,   5,   2],\n",
       "       [  4,   3,   5,   6,   4],\n",
       "       [  1,  34,   5,   5,   6],\n",
       "       [  1,   3, 423,   4,   4]])"
      ]
     },
     "execution_count": 30,
     "metadata": {},
     "output_type": "execute_result"
    }
   ],
   "source": [
    "a * (a>0.5) #a with elements less than 0.5 zeroed out"
   ]
  },
  {
   "cell_type": "code",
   "execution_count": 31,
   "metadata": {},
   "outputs": [
    {
     "data": {
      "text/plain": [
       "array([[3, 3, 3, 3, 3],\n",
       "       [3, 3, 3, 3, 3],\n",
       "       [3, 3, 3, 3, 3],\n",
       "       [3, 3, 3, 3, 3],\n",
       "       [3, 3, 3, 3, 3]])"
      ]
     },
     "execution_count": 31,
     "metadata": {},
     "output_type": "execute_result"
    }
   ],
   "source": [
    "a[:] = 3 #set all values to the same scalar value\n",
    "a"
   ]
  },
  {
   "cell_type": "code",
   "execution_count": 32,
   "metadata": {},
   "outputs": [
    {
     "data": {
      "text/plain": [
       "array([[0.88169674, 0.17954415, 0.44192995, 0.83586377, 0.22030803],\n",
       "       [0.41322383, 0.61537742, 0.87584522, 0.9394699 , 0.9892509 ],\n",
       "       [0.45988409, 0.54562865, 0.08993709, 0.48514459, 0.07512681],\n",
       "       [0.77647975, 0.40697671, 0.12086633, 0.70320108, 0.85184363]])"
      ]
     },
     "execution_count": 32,
     "metadata": {},
     "output_type": "execute_result"
    }
   ],
   "source": [
    "x = np.random.random((4,5))\n",
    "y = x.copy() #numpy assigns by reference\n",
    "y"
   ]
  },
  {
   "cell_type": "code",
   "execution_count": 33,
   "metadata": {},
   "outputs": [
    {
     "data": {
      "text/plain": [
       "array([0.41322383, 0.61537742, 0.87584522, 0.9394699 , 0.9892509 ])"
      ]
     },
     "execution_count": 33,
     "metadata": {},
     "output_type": "execute_result"
    }
   ],
   "source": [
    "y = x[1,:].copy() #numpy slices are by reference\n",
    "y"
   ]
  },
  {
   "cell_type": "code",
   "execution_count": 34,
   "metadata": {},
   "outputs": [
    {
     "data": {
      "text/plain": [
       "(array([0.88169674, 0.41322383, 0.45988409, 0.77647975, 0.17954415,\n",
       "        0.61537742, 0.54562865, 0.40697671, 0.44192995, 0.87584522,\n",
       "        0.08993709, 0.12086633, 0.83586377, 0.9394699 , 0.48514459,\n",
       "        0.70320108, 0.22030803, 0.9892509 , 0.07512681, 0.85184363]),\n",
       " array([0.88169674, 0.17954415, 0.44192995, 0.83586377, 0.22030803,\n",
       "        0.41322383, 0.61537742, 0.87584522, 0.9394699 , 0.9892509 ,\n",
       "        0.45988409, 0.54562865, 0.08993709, 0.48514459, 0.07512681,\n",
       "        0.77647975, 0.40697671, 0.12086633, 0.70320108, 0.85184363]))"
      ]
     },
     "execution_count": 34,
     "metadata": {},
     "output_type": "execute_result"
    }
   ],
   "source": [
    "#turn array into vector (note that this forces a copy). \n",
    "#x.flatten('F') gives the same data ordering as in Matlab.\n",
    "y1 = x.flatten('F')\n",
    "y2 = x.flatten()\n",
    "y1,y2.T"
   ]
  },
  {
   "cell_type": "code",
   "execution_count": 35,
   "metadata": {},
   "outputs": [
    {
     "data": {
      "text/plain": [
       "array([ 1.,  2.,  3.,  4.,  5.,  6.,  7.,  8.,  9., 10.])"
      ]
     },
     "execution_count": 35,
     "metadata": {},
     "output_type": "execute_result"
    }
   ],
   "source": [
    "np.arange(1.,11.) #create an increasing vector "
   ]
  },
  {
   "cell_type": "code",
   "execution_count": 36,
   "metadata": {},
   "outputs": [
    {
     "data": {
      "text/plain": [
       "array([0., 1., 2., 3., 4., 5., 6., 7., 8., 9.])"
      ]
     },
     "execution_count": 36,
     "metadata": {},
     "output_type": "execute_result"
    }
   ],
   "source": [
    "np.arange(10.) #create an increasing vector"
   ]
  },
  {
   "cell_type": "code",
   "execution_count": 37,
   "metadata": {},
   "outputs": [
    {
     "data": {
      "text/plain": [
       "array([[ 1.],\n",
       "       [ 2.],\n",
       "       [ 3.],\n",
       "       [ 4.],\n",
       "       [ 5.],\n",
       "       [ 6.],\n",
       "       [ 7.],\n",
       "       [ 8.],\n",
       "       [ 9.],\n",
       "       [10.]])"
      ]
     },
     "execution_count": 37,
     "metadata": {},
     "output_type": "execute_result"
    }
   ],
   "source": [
    "np.arange(1.,11.)[:, np.newaxis] #create a column vector"
   ]
  },
  {
   "cell_type": "code",
   "execution_count": 38,
   "metadata": {},
   "outputs": [
    {
     "data": {
      "text/plain": [
       "array([[0., 0., 0., 0.],\n",
       "       [0., 0., 0., 0.],\n",
       "       [0., 0., 0., 0.]])"
      ]
     },
     "execution_count": 38,
     "metadata": {},
     "output_type": "execute_result"
    }
   ],
   "source": [
    "np.zeros((3,4)) #3x4 two-dimensional array full of 64-bit floating point zeros"
   ]
  },
  {
   "cell_type": "code",
   "execution_count": 39,
   "metadata": {},
   "outputs": [
    {
     "data": {
      "text/plain": [
       "array([[[0., 0., 0., 0., 0.],\n",
       "        [0., 0., 0., 0., 0.],\n",
       "        [0., 0., 0., 0., 0.],\n",
       "        [0., 0., 0., 0., 0.]],\n",
       "\n",
       "       [[0., 0., 0., 0., 0.],\n",
       "        [0., 0., 0., 0., 0.],\n",
       "        [0., 0., 0., 0., 0.],\n",
       "        [0., 0., 0., 0., 0.]],\n",
       "\n",
       "       [[0., 0., 0., 0., 0.],\n",
       "        [0., 0., 0., 0., 0.],\n",
       "        [0., 0., 0., 0., 0.],\n",
       "        [0., 0., 0., 0., 0.]]])"
      ]
     },
     "execution_count": 39,
     "metadata": {},
     "output_type": "execute_result"
    }
   ],
   "source": [
    "np.zeros((3,4,5)) #3x4x5 three-dimensional array full of 64-bit floating point zeros"
   ]
  },
  {
   "cell_type": "code",
   "execution_count": 40,
   "metadata": {},
   "outputs": [
    {
     "data": {
      "text/plain": [
       "array([[1., 1., 1., 1.],\n",
       "       [1., 1., 1., 1.],\n",
       "       [1., 1., 1., 1.]])"
      ]
     },
     "execution_count": 40,
     "metadata": {},
     "output_type": "execute_result"
    }
   ],
   "source": [
    "np.ones((3,4)) #3x4 two-dimensional array full of 64-bit floating point ones"
   ]
  },
  {
   "cell_type": "code",
   "execution_count": 41,
   "metadata": {},
   "outputs": [
    {
     "data": {
      "text/plain": [
       "array([[1., 0., 0.],\n",
       "       [0., 1., 0.],\n",
       "       [0., 0., 1.]])"
      ]
     },
     "execution_count": 41,
     "metadata": {},
     "output_type": "execute_result"
    }
   ],
   "source": [
    "np.eye(3) #3x3 identity matrix"
   ]
  },
  {
   "cell_type": "code",
   "execution_count": 42,
   "metadata": {},
   "outputs": [
    {
     "data": {
      "text/plain": [
       "array([3, 3, 3, 3, 3])"
      ]
     },
     "execution_count": 42,
     "metadata": {},
     "output_type": "execute_result"
    }
   ],
   "source": [
    "np.diag(a) #vector of diagonal elements of a"
   ]
  },
  {
   "cell_type": "code",
   "execution_count": 43,
   "metadata": {},
   "outputs": [
    {
     "data": {
      "text/plain": [
       "array([3, 3, 3, 3, 3])"
      ]
     },
     "execution_count": 43,
     "metadata": {},
     "output_type": "execute_result"
    }
   ],
   "source": [
    "np.diag(a,0) #square diagonal matrix whose nonzero values are the elements of a"
   ]
  },
  {
   "cell_type": "code",
   "execution_count": 44,
   "metadata": {},
   "outputs": [
    {
     "data": {
      "text/plain": [
       "array([[0.6151733 , 0.93126227, 0.30310891, 0.52873352],\n",
       "       [0.1686435 , 0.81805838, 0.55981267, 0.15048109],\n",
       "       [0.35008613, 0.08413149, 0.59343974, 0.12992453]])"
      ]
     },
     "execution_count": 44,
     "metadata": {},
     "output_type": "execute_result"
    }
   ],
   "source": [
    "np.random.rand(3,4) #random 3x4 matrix"
   ]
  },
  {
   "cell_type": "code",
   "execution_count": 45,
   "metadata": {},
   "outputs": [
    {
     "data": {
      "text/plain": [
       "array([1.        , 1.66666667, 2.33333333, 3.        ])"
      ]
     },
     "execution_count": 45,
     "metadata": {},
     "output_type": "execute_result"
    }
   ],
   "source": [
    "np.linspace(1,3,4) #4 equally spaced samples between 1 and 3, inclusive"
   ]
  },
  {
   "cell_type": "code",
   "execution_count": 46,
   "metadata": {},
   "outputs": [
    {
     "data": {
      "text/plain": [
       "array([[[0., 0., 0., 0., 0., 0.],\n",
       "        [1., 1., 1., 1., 1., 1.],\n",
       "        [2., 2., 2., 2., 2., 2.],\n",
       "        [3., 3., 3., 3., 3., 3.],\n",
       "        [4., 4., 4., 4., 4., 4.],\n",
       "        [5., 5., 5., 5., 5., 5.],\n",
       "        [6., 6., 6., 6., 6., 6.],\n",
       "        [7., 7., 7., 7., 7., 7.],\n",
       "        [8., 8., 8., 8., 8., 8.]],\n",
       "\n",
       "       [[0., 1., 2., 3., 4., 5.],\n",
       "        [0., 1., 2., 3., 4., 5.],\n",
       "        [0., 1., 2., 3., 4., 5.],\n",
       "        [0., 1., 2., 3., 4., 5.],\n",
       "        [0., 1., 2., 3., 4., 5.],\n",
       "        [0., 1., 2., 3., 4., 5.],\n",
       "        [0., 1., 2., 3., 4., 5.],\n",
       "        [0., 1., 2., 3., 4., 5.],\n",
       "        [0., 1., 2., 3., 4., 5.]]])"
      ]
     },
     "execution_count": 46,
     "metadata": {},
     "output_type": "execute_result"
    }
   ],
   "source": [
    "np.mgrid[0:9.,0:6.] #two 2D arrays: one of x values, the other of y values"
   ]
  },
  {
   "cell_type": "code",
   "execution_count": 47,
   "metadata": {},
   "outputs": [
    {
     "data": {
      "text/plain": [
       "[array([[0.],\n",
       "        [1.],\n",
       "        [2.],\n",
       "        [3.],\n",
       "        [4.],\n",
       "        [5.],\n",
       "        [6.],\n",
       "        [7.],\n",
       "        [8.]]),\n",
       " array([[0., 1., 2., 3., 4., 5.]])]"
      ]
     },
     "execution_count": 47,
     "metadata": {},
     "output_type": "execute_result"
    }
   ],
   "source": [
    "np.ogrid[0:9.,0:6.] #the best way to eval functions on a grid"
   ]
  },
  {
   "cell_type": "code",
   "execution_count": 48,
   "metadata": {},
   "outputs": [
    {
     "data": {
      "text/plain": [
       "[array([[1, 2, 4],\n",
       "        [1, 2, 4],\n",
       "        [1, 2, 4]]),\n",
       " array([[2, 2, 2],\n",
       "        [4, 4, 4],\n",
       "        [5, 5, 5]])]"
      ]
     },
     "execution_count": 48,
     "metadata": {},
     "output_type": "execute_result"
    }
   ],
   "source": [
    "np.meshgrid([1,2,4],[2,4,5])"
   ]
  },
  {
   "cell_type": "code",
   "execution_count": 49,
   "metadata": {},
   "outputs": [
    {
     "data": {
      "text/plain": [
       "(array([[1],\n",
       "        [2],\n",
       "        [4]]),\n",
       " array([[2, 4, 5]]))"
      ]
     },
     "execution_count": 49,
     "metadata": {},
     "output_type": "execute_result"
    }
   ],
   "source": [
    "np.ix_([1,2,4],[2,4,5])"
   ]
  },
  {
   "cell_type": "code",
   "execution_count": 50,
   "metadata": {},
   "outputs": [
    {
     "data": {
      "text/plain": [
       "array([[3, 3, 3, 3, 3],\n",
       "       [3, 3, 3, 3, 3],\n",
       "       [3, 3, 3, 3, 3],\n",
       "       [3, 3, 3, 3, 3],\n",
       "       [3, 3, 3, 3, 3],\n",
       "       [3, 3, 3, 3, 3],\n",
       "       [3, 3, 3, 3, 3],\n",
       "       [3, 3, 3, 3, 3],\n",
       "       [3, 3, 3, 3, 3],\n",
       "       [3, 3, 3, 3, 3]])"
      ]
     },
     "execution_count": 50,
     "metadata": {},
     "output_type": "execute_result"
    }
   ],
   "source": [
    "np.tile(a, (2, 1)) #create 2 by 1 copies of a"
   ]
  },
  {
   "cell_type": "code",
   "execution_count": 51,
   "metadata": {},
   "outputs": [
    {
     "data": {
      "text/plain": [
       "array([[3, 3, 3, 3, 3, 6, 1, 9, 3, 4],\n",
       "       [3, 3, 3, 3, 3, 3, 8, 2, 8, 8],\n",
       "       [3, 3, 3, 3, 3, 7, 7, 1, 3, 6],\n",
       "       [3, 3, 3, 3, 3, 8, 4, 6, 5, 5],\n",
       "       [3, 3, 3, 3, 3, 4, 1, 2, 8, 1]])"
      ]
     },
     "execution_count": 51,
     "metadata": {},
     "output_type": "execute_result"
    }
   ],
   "source": [
    "np.concatenate((a,b),1) #concatenate columns of a and b"
   ]
  },
  {
   "cell_type": "code",
   "execution_count": 52,
   "metadata": {},
   "outputs": [
    {
     "data": {
      "text/plain": [
       "(array([[3, 3, 3, 3, 3, 6, 1, 9, 3, 4],\n",
       "        [3, 3, 3, 3, 3, 3, 8, 2, 8, 8],\n",
       "        [3, 3, 3, 3, 3, 7, 7, 1, 3, 6],\n",
       "        [3, 3, 3, 3, 3, 8, 4, 6, 5, 5],\n",
       "        [3, 3, 3, 3, 3, 4, 1, 2, 8, 1]]),\n",
       " array([[3, 3, 3, 3, 3, 6, 1, 9, 3, 4],\n",
       "        [3, 3, 3, 3, 3, 3, 8, 2, 8, 8],\n",
       "        [3, 3, 3, 3, 3, 7, 7, 1, 3, 6],\n",
       "        [3, 3, 3, 3, 3, 8, 4, 6, 5, 5],\n",
       "        [3, 3, 3, 3, 3, 4, 1, 2, 8, 1]]))"
      ]
     },
     "execution_count": 52,
     "metadata": {},
     "output_type": "execute_result"
    }
   ],
   "source": [
    "np.hstack((a,b)), np.column_stack((a,b))  #concatenate columns of a and b in two different ways"
   ]
  },
  {
   "cell_type": "code",
   "execution_count": 53,
   "metadata": {},
   "outputs": [
    {
     "data": {
      "text/plain": [
       "array([[3, 3, 3, 3, 3],\n",
       "       [3, 3, 3, 3, 3],\n",
       "       [3, 3, 3, 3, 3],\n",
       "       [3, 3, 3, 3, 3],\n",
       "       [3, 3, 3, 3, 3],\n",
       "       [6, 1, 9, 3, 4],\n",
       "       [3, 8, 2, 8, 8],\n",
       "       [7, 7, 1, 3, 6],\n",
       "       [8, 4, 6, 5, 5],\n",
       "       [4, 1, 2, 8, 1]])"
      ]
     },
     "execution_count": 53,
     "metadata": {},
     "output_type": "execute_result"
    }
   ],
   "source": [
    "np.concatenate((a,b)) #concatenate rows of a and b\n",
    "#or we can use vstack((a,b))"
   ]
  },
  {
   "cell_type": "code",
   "execution_count": 54,
   "metadata": {},
   "outputs": [
    {
     "data": {
      "text/plain": [
       "3"
      ]
     },
     "execution_count": 54,
     "metadata": {},
     "output_type": "execute_result"
    }
   ],
   "source": [
    "a.max() #maximum element of each column of matrix a"
   ]
  },
  {
   "cell_type": "code",
   "execution_count": 55,
   "metadata": {},
   "outputs": [
    {
     "data": {
      "text/plain": [
       "array([3, 3, 3, 3, 3])"
      ]
     },
     "execution_count": 55,
     "metadata": {},
     "output_type": "execute_result"
    }
   ],
   "source": [
    "a.max(1) #maximum element of each row of matrix a"
   ]
  },
  {
   "cell_type": "code",
   "execution_count": 56,
   "metadata": {},
   "outputs": [
    {
     "data": {
      "text/plain": [
       "array([[6, 3, 9, 3, 4],\n",
       "       [3, 8, 3, 8, 8],\n",
       "       [7, 7, 3, 3, 6],\n",
       "       [8, 4, 6, 5, 5],\n",
       "       [4, 3, 3, 8, 3]])"
      ]
     },
     "execution_count": 56,
     "metadata": {},
     "output_type": "execute_result"
    }
   ],
   "source": [
    "np.maximum(a, b) #compares a and b element-wise, and returns the maximum value from each pair"
   ]
  },
  {
   "cell_type": "code",
   "execution_count": 57,
   "metadata": {},
   "outputs": [
    {
     "data": {
      "text/plain": [
       "6.708203932499369"
      ]
     },
     "execution_count": 57,
     "metadata": {},
     "output_type": "execute_result"
    }
   ],
   "source": [
    "np.linalg.norm(v) #L2 norm of vector v\n",
    "#we can also use sqrt(v @ v)"
   ]
  },
  {
   "cell_type": "code",
   "execution_count": 58,
   "metadata": {},
   "outputs": [
    {
     "data": {
      "text/plain": [
       "array([[ True,  True,  True,  True,  True],\n",
       "       [ True,  True,  True,  True,  True],\n",
       "       [ True,  True,  True,  True,  True],\n",
       "       [ True,  True,  True,  True,  True],\n",
       "       [ True,  True,  True,  True,  True]])"
      ]
     },
     "execution_count": 58,
     "metadata": {},
     "output_type": "execute_result"
    }
   ],
   "source": [
    "np.logical_and(a,b) #element-by-element AND operator"
   ]
  },
  {
   "cell_type": "code",
   "execution_count": 59,
   "metadata": {},
   "outputs": [
    {
     "data": {
      "text/plain": [
       "array([[2, 1, 1, 3, 0],\n",
       "       [3, 0, 2, 0, 0],\n",
       "       [3, 3, 1, 3, 2],\n",
       "       [0, 0, 2, 1, 1],\n",
       "       [0, 1, 2, 0, 1]], dtype=int32)"
      ]
     },
     "execution_count": 59,
     "metadata": {},
     "output_type": "execute_result"
    }
   ],
   "source": [
    "a & b #bitwise AND operator"
   ]
  },
  {
   "cell_type": "code",
   "execution_count": 60,
   "metadata": {},
   "outputs": [
    {
     "data": {
      "text/plain": [
       "array([[ 7,  3, 11,  3,  7],\n",
       "       [ 3, 11,  3, 11, 11],\n",
       "       [ 7,  7,  3,  3,  7],\n",
       "       [11,  7,  7,  7,  7],\n",
       "       [ 7,  3,  3, 11,  3]], dtype=int32)"
      ]
     },
     "execution_count": 60,
     "metadata": {},
     "output_type": "execute_result"
    }
   ],
   "source": [
    "a | b #bitwise OR operator"
   ]
  },
  {
   "cell_type": "code",
   "execution_count": 61,
   "metadata": {},
   "outputs": [
    {
     "data": {
      "text/plain": [
       "array([[ 0.64220183, -0.2293578 ,  0.7706422 , -1.1559633 ,  0.42201835],\n",
       "       [-3.64908257,  0.57110092, -3.42889908,  6.51834862, -1.99082569],\n",
       "       [-1.59633028,  0.28440367, -1.71559633,  3.0733945 , -0.96330275],\n",
       "       [ 0.06651376,  0.02981651,  0.02981651, -0.16972477,  0.16513761],\n",
       "       [ 3.74082569, -0.46100917,  3.53899083, -6.68348624,  1.90825688]])"
      ]
     },
     "execution_count": 61,
     "metadata": {},
     "output_type": "execute_result"
    }
   ],
   "source": [
    "np.linalg.inv(b) #inverse of square matrix b"
   ]
  },
  {
   "cell_type": "code",
   "execution_count": 62,
   "metadata": {},
   "outputs": [
    {
     "data": {
      "text/plain": [
       "array([[0.01333333, 0.01333333, 0.01333333, 0.01333333, 0.01333333],\n",
       "       [0.01333333, 0.01333333, 0.01333333, 0.01333333, 0.01333333],\n",
       "       [0.01333333, 0.01333333, 0.01333333, 0.01333333, 0.01333333],\n",
       "       [0.01333333, 0.01333333, 0.01333333, 0.01333333, 0.01333333],\n",
       "       [0.01333333, 0.01333333, 0.01333333, 0.01333333, 0.01333333]])"
      ]
     },
     "execution_count": 62,
     "metadata": {},
     "output_type": "execute_result"
    }
   ],
   "source": [
    "np.linalg.pinv(a) #pseudo-inverse of matrix a"
   ]
  },
  {
   "cell_type": "code",
   "execution_count": 63,
   "metadata": {},
   "outputs": [
    {
     "data": {
      "text/plain": [
       "1"
      ]
     },
     "execution_count": 63,
     "metadata": {},
     "output_type": "execute_result"
    }
   ],
   "source": [
    "np.linalg.matrix_rank(a) #matrix rank of a 2D array / matrix a"
   ]
  },
  {
   "cell_type": "code",
   "execution_count": 64,
   "metadata": {},
   "outputs": [
    {
     "data": {
      "text/plain": [
       "array([[  5.80733945],\n",
       "       [-28.83027523],\n",
       "       [-14.32110092],\n",
       "       [  1.55504587],\n",
       "       [ 29.80275229]])"
      ]
     },
     "execution_count": 64,
     "metadata": {},
     "output_type": "execute_result"
    }
   ],
   "source": [
    "#solution of b x = c for x where b is a square matrix\n",
    "c = np.random.randint(1,10,size=(5,1))\n",
    "x = np.linalg.solve(b, c)\n",
    "x"
   ]
  },
  {
   "cell_type": "code",
   "execution_count": 65,
   "metadata": {},
   "outputs": [
    {
     "data": {
      "text/plain": [
       "(array([[-8.43202577],\n",
       "        [-4.36223154],\n",
       "        [ 6.41504388],\n",
       "        [11.23732675],\n",
       "        [19.06105625]]),\n",
       " array([], dtype=float64),\n",
       " 4,\n",
       " array([2.17443148, 0.95247542, 0.41339723, 0.26403805]))"
      ]
     },
     "execution_count": 65,
     "metadata": {},
     "output_type": "execute_result"
    }
   ],
   "source": [
    "#solution of Ax = c for x where A is not square matrix\n",
    "A = np.random.rand(4,5)\n",
    "c = np.random.randint(1,10,size=(4,1))\n",
    "x = np.linalg.lstsq(A,c)\n",
    "x"
   ]
  },
  {
   "cell_type": "code",
   "execution_count": 66,
   "metadata": {},
   "outputs": [
    {
     "name": "stdout",
     "output_type": "stream",
     "text": [
      "U:[[-4.47213595e-01  8.94427191e-01 -4.01682464e-17 -4.01682464e-17\n",
      "  -4.01682464e-17]\n",
      " [-4.47213595e-01 -2.23606798e-01 -5.00000000e-01 -5.00000000e-01\n",
      "  -5.00000000e-01]\n",
      " [-4.47213595e-01 -2.23606798e-01 -1.66666667e-01 -1.66666667e-01\n",
      "   8.33333333e-01]\n",
      " [-4.47213595e-01 -2.23606798e-01 -1.66666667e-01  8.33333333e-01\n",
      "  -1.66666667e-01]\n",
      " [-4.47213595e-01 -2.23606798e-01  8.33333333e-01 -1.66666667e-01\n",
      "  -1.66666667e-01]]\n",
      "\n",
      "S:[1.50000000e+01 3.12184089e-16 0.00000000e+00 0.00000000e+00\n",
      " 0.00000000e+00]\n",
      "\n",
      "V:[[-0.4472136   0.89442719  0.          0.          0.        ]\n",
      " [-0.4472136  -0.2236068  -0.5        -0.5        -0.5       ]\n",
      " [-0.4472136  -0.2236068  -0.16666667 -0.16666667  0.83333333]\n",
      " [-0.4472136  -0.2236068  -0.16666667  0.83333333 -0.16666667]\n",
      " [-0.4472136  -0.2236068   0.83333333 -0.16666667 -0.16666667]]\n"
     ]
    }
   ],
   "source": [
    "#singular value decomposition of a\n",
    "U, S, Vh = np.linalg.svd(a)\n",
    "V = Vh.T\n",
    "print('U:{}\\n\\nS:{}\\n\\nV:{}'.format(U,S,V))"
   ]
  },
  {
   "cell_type": "code",
   "execution_count": 67,
   "metadata": {},
   "outputs": [
    {
     "data": {
      "text/plain": [
       "array([[11.95826074,  8.3624201 ,  7.60980229, 11.79101234,  5.93731827],\n",
       "       [ 0.        , 11.62195896,  7.51711795,  4.25045395,  3.98810997],\n",
       "       [ 0.        ,  0.        ,  5.43910349,  2.44922046, -1.50041477],\n",
       "       [ 0.        ,  0.        ,  0.        ,  1.70498924,  5.6989074 ],\n",
       "       [ 0.        ,  0.        ,  0.        ,  0.        ,  0.33829079]])"
      ]
     },
     "execution_count": 67,
     "metadata": {},
     "output_type": "execute_result"
    }
   ],
   "source": [
    "P = b@b.T # positive definite matrix\n",
    "np.linalg.cholesky(P).T #cholesky factorization of a matrix: returns a lower triangular matrix"
   ]
  },
  {
   "cell_type": "code",
   "execution_count": 68,
   "metadata": {},
   "outputs": [
    {
     "name": "stdout",
     "output_type": "stream",
     "text": [
      "D:[ 0. 15.  0.  0.  0.]\n",
      "\n",
      "V:[[-8.94427191e-01  4.47213595e-01  0.00000000e+00  0.00000000e+00\n",
      "   0.00000000e+00]\n",
      " [ 2.23606798e-01  4.47213595e-01  8.66025404e-01 -4.16333634e-17\n",
      "  -4.16333634e-17]\n",
      " [ 2.23606798e-01  4.47213595e-01 -2.88675135e-01 -5.77350269e-01\n",
      "  -5.77350269e-01]\n",
      " [ 2.23606798e-01  4.47213595e-01 -2.88675135e-01  7.88675135e-01\n",
      "  -2.11324865e-01]\n",
      " [ 2.23606798e-01  4.47213595e-01 -2.88675135e-01 -2.11324865e-01\n",
      "   7.88675135e-01]]\n"
     ]
    }
   ],
   "source": [
    "D,V = np.linalg.eig(a) #eigenvalues and eigenvectors of a\n",
    "print('D:{}\\n\\nV:{}'.format(D,V))"
   ]
  },
  {
   "cell_type": "code",
   "execution_count": 69,
   "metadata": {},
   "outputs": [
    {
     "name": "stdout",
     "output_type": "stream",
     "text": [
      "Q: [[-4.47213595e-01  8.94427191e-01 -4.01682464e-17  0.00000000e+00\n",
      "   0.00000000e+00]\n",
      " [-4.47213595e-01 -2.23606798e-01  8.66025404e-01  0.00000000e+00\n",
      "   2.14690125e-18]\n",
      " [-4.47213595e-01 -2.23606798e-01 -2.88675135e-01  8.16496581e-01\n",
      "  -8.68448956e-17]\n",
      " [-4.47213595e-01 -2.23606798e-01 -2.88675135e-01 -4.08248290e-01\n",
      "  -7.07106781e-01]\n",
      " [-4.47213595e-01 -2.23606798e-01 -2.88675135e-01 -4.08248290e-01\n",
      "   7.07106781e-01]] \n",
      "\n",
      "R: [[-6.70820393e+00 -6.70820393e+00 -6.70820393e+00 -6.70820393e+00\n",
      "  -6.70820393e+00]\n",
      " [ 0.00000000e+00 -1.44688132e-15 -1.44688132e-15 -1.44688132e-15\n",
      "  -1.44688132e-15]\n",
      " [ 0.00000000e+00  0.00000000e+00 -1.26263380e-32 -1.26263380e-32\n",
      "  -1.26263380e-32]\n",
      " [ 0.00000000e+00  0.00000000e+00  0.00000000e+00  6.52838235e-49\n",
      "   6.52838235e-49]\n",
      " [ 0.00000000e+00  0.00000000e+00  0.00000000e+00  0.00000000e+00\n",
      "  -9.51666664e-66]]\n"
     ]
    }
   ],
   "source": [
    "#QR decomposition\n",
    "Q,R = scipy.linalg.qr(a)\n",
    "print('Q:',Q, '\\n\\nR:', R)"
   ]
  },
  {
   "cell_type": "code",
   "execution_count": 70,
   "metadata": {},
   "outputs": [
    {
     "name": "stdout",
     "output_type": "stream",
     "text": [
      "L: [[ 8.          4.          6.          5.          5.        ]\n",
      " [ 0.375       6.5        -0.25        6.125       6.125     ]\n",
      " [ 0.75       -0.30769231  4.42307692  1.13461538  2.13461538]\n",
      " [ 0.5        -0.15384615 -0.23478261  6.70869565 -0.05652174]\n",
      " [ 0.875       0.53846154 -0.93043478 -0.53920933  0.28256643]] \n",
      "\n",
      "U: [[-4.47213595e-01  8.94427191e-01 -4.01682464e-17 -4.01682464e-17\n",
      "  -4.01682464e-17]\n",
      " [-4.47213595e-01 -2.23606798e-01 -5.00000000e-01 -5.00000000e-01\n",
      "  -5.00000000e-01]\n",
      " [-4.47213595e-01 -2.23606798e-01 -1.66666667e-01 -1.66666667e-01\n",
      "   8.33333333e-01]\n",
      " [-4.47213595e-01 -2.23606798e-01 -1.66666667e-01  8.33333333e-01\n",
      "  -1.66666667e-01]\n",
      " [-4.47213595e-01 -2.23606798e-01  8.33333333e-01 -1.66666667e-01\n",
      "  -1.66666667e-01]]\n"
     ]
    }
   ],
   "source": [
    "#LU decomposition\n",
    "import scipy as sp\n",
    "LU,P=scipy.linalg.lu_factor(b)\n",
    "print('L:',LU, '\\n\\nU:', U)"
   ]
  },
  {
   "cell_type": "code",
   "execution_count": 71,
   "metadata": {},
   "outputs": [
    {
     "data": {
      "text/plain": [
       "(array([nan, nan, nan, nan, nan]), 50)"
      ]
     },
     "execution_count": 71,
     "metadata": {},
     "output_type": "execute_result"
    }
   ],
   "source": [
    "from scipy.sparse import linalg\n",
    "c = np.random.randint(1,10,size=(5,1))\n",
    "scipy.sparse.linalg.cg(b, c)   #Conjugate gradients solver"
   ]
  },
  {
   "cell_type": "code",
   "execution_count": 72,
   "metadata": {},
   "outputs": [
    {
     "data": {
      "text/plain": [
       "array([[23.        -0.j        , -2.16311896-0.67354196j,\n",
       "         5.66311896+7.46969485j,  5.66311896-7.46969485j,\n",
       "        -2.16311896+0.67354196j],\n",
       "       [29.        -0.j        , -0.14589803+3.52671151j,\n",
       "        -6.85410197-5.7063391j , -6.85410197+5.7063391j ,\n",
       "        -0.14589803-3.52671151j],\n",
       "       [24.        -0.j        ,  7.78115295+0.22451399j,\n",
       "        -2.28115295-2.48989828j, -2.28115295+2.48989828j,\n",
       "         7.78115295-0.22451399j],\n",
       "       [28.        -0.j        ,  1.88196601+0.36327126j,\n",
       "         4.11803399+1.53884177j,  4.11803399-1.53884177j,\n",
       "         1.88196601-0.36327126j],\n",
       "       [16.        -0.j        , -3.47213595+3.52671151j,\n",
       "         5.47213595-5.7063391j ,  5.47213595+5.7063391j ,\n",
       "        -3.47213595-3.52671151j]])"
      ]
     },
     "execution_count": 72,
     "metadata": {},
     "output_type": "execute_result"
    }
   ],
   "source": [
    "scipy.fft.fft(b) #Fourier transform of b"
   ]
  },
  {
   "cell_type": "code",
   "execution_count": 73,
   "metadata": {},
   "outputs": [
    {
     "data": {
      "text/plain": [
       "array([[ 4.6       -0.j        , -0.43262379+0.13470839j,\n",
       "         1.13262379-1.49393897j,  1.13262379+1.49393897j,\n",
       "        -0.43262379-0.13470839j],\n",
       "       [ 5.8       -0.j        , -0.02917961-0.7053423j ,\n",
       "        -1.37082039+1.14126782j, -1.37082039-1.14126782j,\n",
       "        -0.02917961+0.7053423j ],\n",
       "       [ 4.8       -0.j        ,  1.55623059-0.0449028j ,\n",
       "        -0.45623059+0.49797966j, -0.45623059-0.49797966j,\n",
       "         1.55623059+0.0449028j ],\n",
       "       [ 5.6       -0.j        ,  0.3763932 -0.07265425j,\n",
       "         0.8236068 -0.30776835j,  0.8236068 +0.30776835j,\n",
       "         0.3763932 +0.07265425j],\n",
       "       [ 3.2       -0.j        , -0.69442719-0.7053423j ,\n",
       "         1.09442719+1.14126782j,  1.09442719-1.14126782j,\n",
       "        -0.69442719+0.7053423j ]])"
      ]
     },
     "execution_count": 73,
     "metadata": {},
     "output_type": "execute_result"
    }
   ],
   "source": [
    "scipy.fft.ifft(b) #inverse Fourier transform of a"
   ]
  },
  {
   "cell_type": "code",
   "execution_count": 74,
   "metadata": {},
   "outputs": [
    {
     "data": {
      "text/plain": [
       "array([[1, 3, 4, 6, 9],\n",
       "       [2, 3, 8, 8, 8],\n",
       "       [1, 3, 6, 7, 7],\n",
       "       [4, 5, 5, 6, 8],\n",
       "       [1, 1, 2, 4, 8]])"
      ]
     },
     "execution_count": 74,
     "metadata": {},
     "output_type": "execute_result"
    }
   ],
   "source": [
    "np.sort(b) #sort the matrix b"
   ]
  },
  {
   "cell_type": "code",
   "execution_count": 75,
   "metadata": {},
   "outputs": [
    {
     "data": {
      "text/plain": [
       "array([[4, 1, 2, 8, 1],\n",
       "       [6, 1, 9, 3, 4],\n",
       "       [8, 4, 6, 5, 5],\n",
       "       [7, 7, 1, 3, 6],\n",
       "       [3, 8, 2, 8, 8]])"
      ]
     },
     "execution_count": 75,
     "metadata": {},
     "output_type": "execute_result"
    }
   ],
   "source": [
    "#sort the rows of the matrix\n",
    "I = np.argsort(b[:,i])\n",
    "c = b[I,:]\n",
    "c"
   ]
  },
  {
   "cell_type": "code",
   "execution_count": 76,
   "metadata": {},
   "outputs": [
    {
     "name": "stdout",
     "output_type": "stream",
     "text": [
      "-1.374 5.236000000000002\n"
     ]
    }
   ],
   "source": [
    "   \n",
    "x = np.array([10, 11, 2, 3])\n",
    "y = np.array([-21, 1.12, 3, 2.1])\n",
    "X = np.vstack([x, np.ones(len(x))]).T\n",
    "np.linalg.lstsq(X,y) #multilinear regression\n",
    "m, c = np.linalg.lstsq(X, y)[0]\n",
    "\n",
    "print(m, c)\n"
   ]
  },
  {
   "cell_type": "code",
   "execution_count": 77,
   "metadata": {},
   "outputs": [
    {
     "data": {
      "text/plain": [
       "array([ 1.        ,  1.23283311,  1.31727019,  1.27302765,  1.14740269,\n",
       "        0.99913207,  0.88078847,  0.82497964,  0.83806509,  0.90249922,\n",
       "        0.98614323,  1.05486   ,  1.08402435,  1.06536954,  1.00747904,\n",
       "        0.93050762,  0.85758366,  0.80620995,  0.78263328,  0.78081837,\n",
       "        0.78588726,  0.78033048,  0.75048699,  0.69094819,  0.60552319,\n",
       "        0.50478221,  0.40143727,  0.30548407,  0.22092394,  0.14511765,\n",
       "        0.0707372 , -0.01068719, -0.10512733, -0.21370903, -0.33240564,\n",
       "       -0.45366208, -0.56910426, -0.67215691, -0.75955883, -0.83131707,\n",
       "       -0.88932657, -0.93540864, -0.9696874 , -0.98998822, -0.9924354 ,\n",
       "       -0.97288395, -0.92847886, -0.85863231, -0.76502853, -0.65074937,\n",
       "       -0.51903563, -0.37236513, -0.21236454, -0.04065068,  0.13978552,\n",
       "        0.3233596 ,  0.50154373,  0.66375109,  0.79927642,  0.89960584,\n",
       "        0.96017029,  0.98077748,  0.96447814,  0.91530208,  0.8358487 ,\n",
       "        0.7258814 ,  0.58274561,  0.40370101,  0.18940426, -0.0528479 ,\n",
       "       -0.30761458, -0.55253797, -0.76231625, -0.91434367, -0.99416302,\n",
       "       -0.99876133, -0.93639432, -0.82285784, -0.67549774, -0.50723015,\n",
       "       -0.3230094 , -0.12038944,  0.1057018 ,  0.35559088,  0.61779519,\n",
       "        0.86547229,  1.0586815 ,  1.15286077,  1.11163922,  0.9202326 ,\n",
       "        0.59492066,  0.18484931, -0.23549411, -0.5819343 , -0.78050802,\n",
       "       -0.78611604, -0.59448055, -0.24372704,  0.19511472,  0.63613281])"
      ]
     },
     "execution_count": 77,
     "metadata": {},
     "output_type": "execute_result"
    }
   ],
   "source": [
    "from scipy.signal import resample\n",
    "x = np.linspace(0, 10, 20, endpoint=False)\n",
    "y = np.cos(-x**2/6.0)\n",
    "f = scipy.signal.resample(y, 100)\n",
    "f"
   ]
  },
  {
   "cell_type": "code",
   "execution_count": 78,
   "metadata": {},
   "outputs": [
    {
     "data": {
      "text/plain": [
       "array([1, 2, 3, 4, 5, 6, 7, 8, 9])"
      ]
     },
     "execution_count": 78,
     "metadata": {},
     "output_type": "execute_result"
    }
   ],
   "source": [
    "np.unique(b)"
   ]
  },
  {
   "cell_type": "code",
   "execution_count": 79,
   "metadata": {},
   "outputs": [
    {
     "data": {
      "text/plain": [
       "array([[6, 1, 9, 3, 4],\n",
       "       [3, 8, 2, 8, 8],\n",
       "       [7, 7, 1, 3, 6],\n",
       "       [8, 4, 6, 5, 5],\n",
       "       [4, 1, 2, 8, 1]])"
      ]
     },
     "execution_count": 79,
     "metadata": {},
     "output_type": "execute_result"
    }
   ],
   "source": [
    "b.squeeze()"
   ]
  },
  {
   "cell_type": "markdown",
   "metadata": {},
   "source": [
    "# Task3:"
   ]
  },
  {
   "cell_type": "code",
   "execution_count": 80,
   "metadata": {},
   "outputs": [
    {
     "data": {
      "image/png": "[encoded data removed]",
      "text/plain": [
       "<Figure size 432x288 with 1 Axes>"
      ]
     },
     "metadata": {
      "needs_background": "light"
     },
     "output_type": "display_data"
    }
   ],
   "source": [
    "import matplotlib.pyplot as plt\n",
    "plt.plot([1,2,3,4], [1,2,7,14])\n",
    "plt.axis([0, 6, 0, 20])\n",
    "plt.show()"
   ]
  },
  {
   "cell_type": "markdown",
   "metadata": {},
   "source": [
    "# Task4:"
   ]
  },
  {
   "cell_type": "code",
   "execution_count": 81,
   "metadata": {},
   "outputs": [
    {
     "data": {
      "image/png": "[encoded data removed]",
      "text/plain": [
       "<Figure size 432x288 with 1 Axes>"
      ]
     },
     "metadata": {
      "needs_background": "light"
     },
     "output_type": "display_data"
    }
   ],
   "source": [
    "import matplotlib.pyplot as plt\n",
    "\n",
    "# Data for plotting\n",
    "t = np.arange(0.0, 2.0, 0.01)\n",
    "s = 1 + np.sin(2 * np.pi * t)\n",
    "\n",
    "fig, ax = plt.subplots()\n",
    "ax.plot(t, s)\n",
    "\n",
    "ax.set(xlabel='t', ylabel='s')\n",
    "plt.grid()\n",
    "plt.show()"
   ]
  },
  {
   "cell_type": "markdown",
   "metadata": {},
   "source": [
    "# Task5: VCS account "
   ]
  },
  {
   "cell_type": "markdown",
   "metadata": {},
   "source": [
    "####  https://github.com/afrojaakter/DeepMachineLearningCourseWork.git"
   ]
  },
  {
   "cell_type": "markdown",
   "metadata": {},
   "source": [
    "# Task 6 #Pycharm file"
   ]
  },
  {
   "cell_type": "code",
   "execution_count": 1,
   "metadata": {},
   "outputs": [
    {
     "name": "stdout",
     "output_type": "stream",
     "text": [
      "Header: \"Time\",\"V1\",\"V2\",\"V3\",\"V4\",\"V5\",\"V6\",\"V7\",\"V8\",\"V9\",\"V10\",\"V11\",\"V12\",\"V13\",\"V14\",\"V15\",\"V16\",\"V17\",\"V18\",\"V19\",\"V20\",\"V21\",\"V22\",\"V23\",\"V24\",\"V25\",\"V26\",\"V27\",\"V28\",\"Amount\",\"Class\"\n",
      "\n",
      "\n",
      "Example Features: [0.0, -1.3598071336738, -0.0727811733098497, 2.53634673796914, 1.37815522427443, -0.338320769942518, 0.462387777762292, 0.239598554061257, 0.0986979012610507, 0.363786969611213, 0.0907941719789316, -0.551599533260813, -0.617800855762348, -0.991389847235408, -0.311169353699879, 1.46817697209427, -0.470400525259478, 0.207971241929242, 0.0257905801985591, 0.403992960255733, 0.251412098239705, -0.018306777944153, 0.277837575558899, -0.110473910188767, 0.0669280749146731, 0.128539358273528, -0.189114843888824, 0.133558376740387, -0.0210530534538215, 149.62]\n",
      "\n",
      "\n",
      "The shape of feature is (284807, 30) and target is (284807, 1)\n"
     ]
    }
   ],
   "source": [
    "import csv\n",
    "import numpy as np\n",
    "import pandas as pd\n",
    "\n",
    "#dataset is collected from Kaggle computition \"Credit Card Fraud Detection\"\n",
    "dataPath = 'HW0_files\\\\CreditCardFraudDetectionDataset\\\\creditcard.csv'\n",
    "\n",
    "features = []\n",
    "targets = []\n",
    "with open(dataPath) as f:\n",
    "    for i, line in enumerate(f):\n",
    "        if i == 0:\n",
    "            print(\"Header:\", line.strip()) # .strip() removes space before and after the string\n",
    "            continue #skip the header\n",
    "        fields = line.strip().split(\",\")\n",
    "        features.append([float(v.replace('\"\"', \"\")) for v in fields[:-1]])\n",
    "        targets.append([int(fields[-1].replace('\"', \"\"))])\n",
    "        if i == 1:\n",
    "            print(\"\\n\\nExample Features:\", features[-1])\n",
    "            \n",
    "features = np.array(features, dtype = \"float32\") # storing feature data in a numpy array \n",
    "targets = np.array(targets, dtype = \"uint8\")\n",
    "print('\\n\\nThe shape of feature is {} and target is {}'.format(features.shape, targets.shape))"
   ]
  },
  {
   "cell_type": "code",
   "execution_count": 2,
   "metadata": {},
   "outputs": [
    {
     "name": "stdout",
     "output_type": "stream",
     "text": [
      "Number of Training samples: 227846 \n",
      "Number of validation samples: 56961\n"
     ]
    }
   ],
   "source": [
    "#Prepare training and validation dataset\n",
    "valid_samples = int(len(features)*0.2) # 20% of the dataset are validation data\n",
    "train_data = features[:-valid_samples]\n",
    "train_targets = targets[:-valid_samples]\n",
    "valid_data = features[-valid_samples:]\n",
    "valid_targets = targets[-valid_samples:]\n",
    "\n",
    "print(\"Number of Training samples: {} \\nNumber of validation samples: {}\"\n",
    "      .format(len(train_data), len(valid_data)))"
   ]
  },
  {
   "cell_type": "code",
   "execution_count": 3,
   "metadata": {},
   "outputs": [
    {
     "name": "stdout",
     "output_type": "stream",
     "text": [
      "Number of positive samples in training data: 417 (0.18% of the total)\n"
     ]
    }
   ],
   "source": [
    "#Analysing calss imbalance in the target data\n",
    "\n",
    "counts = np.bincount(train_targets[:, 0])\n",
    "print(\"Number of positive samples in training data: {} ({:0.2f}% of the total)\"\n",
    "      .format(counts[1], 100*float(counts[1])/len(train_targets)))\n",
    "\n",
    "weight_for_0 = 1.0/counts[0]\n",
    "weigth_for_1 = 1.0/counts[1]\n"
   ]
  },
  {
   "cell_type": "code",
   "execution_count": 4,
   "metadata": {},
   "outputs": [],
   "source": [
    "#Normalizing the data using training set satistics\n",
    "mean =  np.mean(train_data, axis = 0)\n",
    "train_data -= mean\n",
    "valid_data -= mean\n",
    "std = np.std(train_data, axis = 0)\n",
    "train_data /= std\n",
    "valid_data /= std"
   ]
  },
  {
   "cell_type": "code",
   "execution_count": 5,
   "metadata": {},
   "outputs": [
    {
     "name": "stderr",
     "output_type": "stream",
     "text": [
      "C:\\Users\\afroj\\Anaconda3\\lib\\site-packages\\tensorflow\\python\\framework\\dtypes.py:516: FutureWarning: Passing (type, 1) or '1type' as a synonym of type is deprecated; in a future version of numpy, it will be understood as (type, (1,)) / '(1,)type'.\n",
      "  _np_qint8 = np.dtype([(\"qint8\", np.int8, 1)])\n",
      "C:\\Users\\afroj\\Anaconda3\\lib\\site-packages\\tensorflow\\python\\framework\\dtypes.py:517: FutureWarning: Passing (type, 1) or '1type' as a synonym of type is deprecated; in a future version of numpy, it will be understood as (type, (1,)) / '(1,)type'.\n",
      "  _np_quint8 = np.dtype([(\"quint8\", np.uint8, 1)])\n",
      "C:\\Users\\afroj\\Anaconda3\\lib\\site-packages\\tensorflow\\python\\framework\\dtypes.py:518: FutureWarning: Passing (type, 1) or '1type' as a synonym of type is deprecated; in a future version of numpy, it will be understood as (type, (1,)) / '(1,)type'.\n",
      "  _np_qint16 = np.dtype([(\"qint16\", np.int16, 1)])\n",
      "C:\\Users\\afroj\\Anaconda3\\lib\\site-packages\\tensorflow\\python\\framework\\dtypes.py:519: FutureWarning: Passing (type, 1) or '1type' as a synonym of type is deprecated; in a future version of numpy, it will be understood as (type, (1,)) / '(1,)type'.\n",
      "  _np_quint16 = np.dtype([(\"quint16\", np.uint16, 1)])\n",
      "C:\\Users\\afroj\\Anaconda3\\lib\\site-packages\\tensorflow\\python\\framework\\dtypes.py:520: FutureWarning: Passing (type, 1) or '1type' as a synonym of type is deprecated; in a future version of numpy, it will be understood as (type, (1,)) / '(1,)type'.\n",
      "  _np_qint32 = np.dtype([(\"qint32\", np.int32, 1)])\n",
      "C:\\Users\\afroj\\Anaconda3\\lib\\site-packages\\tensorflow\\python\\framework\\dtypes.py:525: FutureWarning: Passing (type, 1) or '1type' as a synonym of type is deprecated; in a future version of numpy, it will be understood as (type, (1,)) / '(1,)type'.\n",
      "  np_resource = np.dtype([(\"resource\", np.ubyte, 1)])\n",
      "C:\\Users\\afroj\\Anaconda3\\lib\\site-packages\\tensorboard\\compat\\tensorflow_stub\\dtypes.py:541: FutureWarning: Passing (type, 1) or '1type' as a synonym of type is deprecated; in a future version of numpy, it will be understood as (type, (1,)) / '(1,)type'.\n",
      "  _np_qint8 = np.dtype([(\"qint8\", np.int8, 1)])\n",
      "C:\\Users\\afroj\\Anaconda3\\lib\\site-packages\\tensorboard\\compat\\tensorflow_stub\\dtypes.py:542: FutureWarning: Passing (type, 1) or '1type' as a synonym of type is deprecated; in a future version of numpy, it will be understood as (type, (1,)) / '(1,)type'.\n",
      "  _np_quint8 = np.dtype([(\"quint8\", np.uint8, 1)])\n",
      "C:\\Users\\afroj\\Anaconda3\\lib\\site-packages\\tensorboard\\compat\\tensorflow_stub\\dtypes.py:543: FutureWarning: Passing (type, 1) or '1type' as a synonym of type is deprecated; in a future version of numpy, it will be understood as (type, (1,)) / '(1,)type'.\n",
      "  _np_qint16 = np.dtype([(\"qint16\", np.int16, 1)])\n",
      "C:\\Users\\afroj\\Anaconda3\\lib\\site-packages\\tensorboard\\compat\\tensorflow_stub\\dtypes.py:544: FutureWarning: Passing (type, 1) or '1type' as a synonym of type is deprecated; in a future version of numpy, it will be understood as (type, (1,)) / '(1,)type'.\n",
      "  _np_quint16 = np.dtype([(\"quint16\", np.uint16, 1)])\n",
      "C:\\Users\\afroj\\Anaconda3\\lib\\site-packages\\tensorboard\\compat\\tensorflow_stub\\dtypes.py:545: FutureWarning: Passing (type, 1) or '1type' as a synonym of type is deprecated; in a future version of numpy, it will be understood as (type, (1,)) / '(1,)type'.\n",
      "  _np_qint32 = np.dtype([(\"qint32\", np.int32, 1)])\n",
      "C:\\Users\\afroj\\Anaconda3\\lib\\site-packages\\tensorboard\\compat\\tensorflow_stub\\dtypes.py:550: FutureWarning: Passing (type, 1) or '1type' as a synonym of type is deprecated; in a future version of numpy, it will be understood as (type, (1,)) / '(1,)type'.\n",
      "  np_resource = np.dtype([(\"resource\", np.ubyte, 1)])\n",
      "Using TensorFlow backend.\n"
     ]
    },
    {
     "name": "stdout",
     "output_type": "stream",
     "text": [
      "Model: \"sequential_1\"\n",
      "_________________________________________________________________\n",
      "Layer (type)                 Output Shape              Param #   \n",
      "=================================================================\n",
      "dense_1 (Dense)              (None, 100)               3100      \n",
      "_________________________________________________________________\n",
      "dense_2 (Dense)              (None, 128)               12928     \n",
      "_________________________________________________________________\n",
      "dropout_1 (Dropout)          (None, 128)               0         \n",
      "_________________________________________________________________\n",
      "dense_3 (Dense)              (None, 100)               12900     \n",
      "=================================================================\n",
      "Total params: 28,928\n",
      "Trainable params: 28,928\n",
      "Non-trainable params: 0\n",
      "_________________________________________________________________\n"
     ]
    }
   ],
   "source": [
    "#Build a binary classification model\n",
    "from tensorflow import keras\n",
    "from keras.layers import Dense, Dropout\n",
    "from keras import Sequential, metrics\n",
    "\n",
    "model = Sequential(\n",
    "        [Dense(100, activation = 'relu', input_shape = (train_data.shape[-1],)),\n",
    "        Dense(128, activation = 'relu'),\n",
    "        Dropout(0.25),\n",
    "        Dense(100, activation = 'sigmoid'),\n",
    "        ]\n",
    ")\n",
    "model.summary()\n",
    "        "
   ]
  },
  {
   "cell_type": "code",
   "execution_count": 17,
   "metadata": {},
   "outputs": [
    {
     "name": "stdout",
     "output_type": "stream",
     "text": [
      "Train on 227846 samples, validate on 56961 samples\n",
      "Epoch 1/15\n",
      " - 2s - loss: 3.3434e-06 - acc: 0.9981 - val_loss: 0.0347 - val_acc: 0.9982\n",
      "Epoch 2/15\n",
      " - 2s - loss: 3.3468e-06 - acc: 0.9982 - val_loss: 0.0283 - val_acc: 0.9982\n",
      "Epoch 3/15\n",
      " - 2s - loss: 3.3762e-06 - acc: 0.9983 - val_loss: 0.0361 - val_acc: 0.9983\n",
      "Epoch 4/15\n",
      " - 2s - loss: 3.3481e-06 - acc: 0.9983 - val_loss: 0.0372 - val_acc: 0.9983\n",
      "Epoch 5/15\n",
      " - 2s - loss: 3.3403e-06 - acc: 0.9983 - val_loss: 0.0214 - val_acc: 0.9983\n",
      "Epoch 6/15\n",
      " - 2s - loss: 3.3346e-06 - acc: 0.9983 - val_loss: 0.0267 - val_acc: 0.9983\n",
      "Epoch 7/15\n",
      " - 2s - loss: 3.3279e-06 - acc: 0.9983 - val_loss: 0.0272 - val_acc: 0.9983\n",
      "Epoch 8/15\n",
      " - 2s - loss: 3.2926e-06 - acc: 0.9983 - val_loss: 0.0281 - val_acc: 0.9983\n",
      "Epoch 9/15\n",
      " - 2s - loss: 3.3268e-06 - acc: 0.9983 - val_loss: 0.0295 - val_acc: 0.9983\n",
      "Epoch 10/15\n",
      " - 2s - loss: 3.2912e-06 - acc: 0.9983 - val_loss: 0.0244 - val_acc: 0.9983\n",
      "Epoch 11/15\n",
      " - 2s - loss: 3.2998e-06 - acc: 0.9983 - val_loss: 0.0203 - val_acc: 0.9983\n",
      "Epoch 12/15\n",
      " - 2s - loss: 3.2698e-06 - acc: 0.9983 - val_loss: 0.0191 - val_acc: 0.9983\n",
      "Epoch 13/15\n",
      " - 2s - loss: 3.2758e-06 - acc: 0.9983 - val_loss: 0.0249 - val_acc: 0.9983\n",
      "Epoch 14/15\n",
      " - 2s - loss: 3.2660e-06 - acc: 0.9983 - val_loss: 0.0218 - val_acc: 0.9983\n",
      "Epoch 15/15\n",
      " - 2s - loss: 3.2682e-06 - acc: 0.9983 - val_loss: 0.0201 - val_acc: 0.9983\n"
     ]
    },
    {
     "data": {
      "text/plain": [
       "<keras.callbacks.callbacks.History at 0x211963f6f88>"
      ]
     },
     "execution_count": 17,
     "metadata": {},
     "output_type": "execute_result"
    }
   ],
   "source": [
    "#Training the model with class_weight argument\n",
    "from keras.callbacks import EarlyStopping, ModelCheckpoint\n",
    "metrics = [\n",
    "    keras.metrics.FalseNegatives(name=\"fn\"),\n",
    "    keras.metrics.FalsePositives(name=\"fp\"),\n",
    "    keras.metrics.TrueNegatives(name=\"tn\"),\n",
    "    keras.metrics.TruePositives(name=\"tp\"),\n",
    "    keras.metrics.Precision(name=\"precision\"),\n",
    "    keras.metrics.Recall(name=\"recall\"),\n",
    "]\n",
    "model.compile(\n",
    "    optimizer=\"adam\",\n",
    "    loss=\"sparse_categorical_crossentropy\",\n",
    "    metrics=[keras.metrics.SparseCategoricalAccuracy(name=\"acc\")],\n",
    ")\n",
    "callbacks = [keras.callbacks.ModelCheckpoint('weights_at_epoch_{epoch}.h5)')]\n",
    "class_weight = {0: weight_for_0, 1: weigth_for_1}\n",
    "\n",
    "model.fit(\n",
    "    train_data,\n",
    "    train_targets,\n",
    "    batch_size=2048,\n",
    "    epochs=15,\n",
    "    verbose=2,\n",
    "    #callbacks=callbacks,\n",
    "    validation_data=(valid_data, valid_targets),\n",
    "    class_weight=class_weight,\n",
    ")\n"
   ]
  }
 ],
 "metadata": {
  "kernelspec": {
   "display_name": "Python 3",
   "language": "python",
   "name": "python3"
  },
  "language_info": {
   "codemirror_mode": {
    "name": "ipython",
    "version": 3
   },
   "file_extension": ".py",
   "mimetype": "text/x-python",
   "name": "python",
   "nbconvert_exporter": "python",
   "pygments_lexer": "ipython3",
   "version": "3.7.6"
  }
 },
 "nbformat": 4,
 "nbformat_minor": 4
}
